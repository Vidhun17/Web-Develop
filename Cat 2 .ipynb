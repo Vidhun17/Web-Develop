{
 "cells": [
  {
   "cell_type": "markdown",
   "id": "7da1e566",
   "metadata": {},
   "source": [
    "# INHERITANCE AND TYPES"
   ]
  },
  {
   "cell_type": "code",
   "execution_count": 174,
   "id": "6db78108",
   "metadata": {},
   "outputs": [],
   "source": [
    "#SINGLE INHERITANCE"
   ]
  },
  {
   "cell_type": "code",
   "execution_count": 175,
   "id": "19723e54",
   "metadata": {},
   "outputs": [
    {
     "name": "stdout",
     "output_type": "stream",
     "text": [
      "Object name:CAR\n",
      "Brand:BMW\n"
     ]
    }
   ],
   "source": [
    "# Python program\n",
    " \n",
    "# Base class\n",
    "class Object:\n",
    "    def func1(self):\n",
    "        print(\"Object name:CAR\")\n",
    " \n",
    "# Derived class\n",
    " \n",
    " \n",
    "class Brand(Object):\n",
    "    def func2(self):\n",
    "        print(\"Brand:BMW\")\n",
    " \n",
    " \n",
    "# Driver's code\n",
    "object = Brand()\n",
    "object.func1()\n",
    "object.func2()"
   ]
  },
  {
   "cell_type": "code",
   "execution_count": 8,
   "id": "87f3d32b",
   "metadata": {},
   "outputs": [],
   "source": [
    "# MULTIPLE INHERITANCE"
   ]
  },
  {
   "cell_type": "code",
   "execution_count": 11,
   "id": "aa35d1d4",
   "metadata": {},
   "outputs": [
    {
     "name": "stdout",
     "output_type": "stream",
     "text": [
      "Father : RAM\n",
      "Mother : YOSHI\n"
     ]
    }
   ],
   "source": [
    "class Mother:\n",
    "    mothername = \"\"\n",
    " \n",
    "    def mother(self):\n",
    "        print(self.mothername)\n",
    " \n",
    "# Base class2\n",
    " \n",
    " \n",
    "class Father:\n",
    "    fathername = \"\"\n",
    " \n",
    "    def father(self):\n",
    "        print(self.fathername)\n",
    " \n",
    "# Derived class\n",
    " \n",
    " \n",
    "class Daughter(Mother, Father):\n",
    "    def parents(self):\n",
    "        print(\"Father :\", self.fathername)\n",
    "        print(\"Mother :\", self.mothername)\n",
    " \n",
    " \n",
    "# Driver's code\n",
    "s1 = Daughter()\n",
    "s1.fathername = \"RAM\"\n",
    "s1.mothername = \"YOSHI\"\n",
    "s1.parents()"
   ]
  },
  {
   "cell_type": "code",
   "execution_count": 18,
   "id": "c3db0cb1",
   "metadata": {},
   "outputs": [],
   "source": [
    "# HIERARCHIAL INHERITANCE"
   ]
  },
  {
   "cell_type": "code",
   "execution_count": 59,
   "id": "7f842ae6",
   "metadata": {},
   "outputs": [
    {
     "name": "stdout",
     "output_type": "stream",
     "text": [
      "marks 73.0\n",
      "A Grade\n"
     ]
    }
   ],
   "source": [
    "class student:\n",
    "    def func1(self):\n",
    "        marks=(98+78+76+46+67)/5\n",
    "        print('marks',marks)\n",
    "#Derived Class\n",
    "class grade(student):\n",
    "    def func2(self):\n",
    "            print('A Grade')\n",
    "\n",
    "object1=grade()\n",
    "object1.func1()\n",
    "object1.func2()\n"
   ]
  },
  {
   "cell_type": "code",
   "execution_count": 55,
   "id": "3beb0d40",
   "metadata": {},
   "outputs": [],
   "source": [
    "#Hybrid Inheritance"
   ]
  },
  {
   "cell_type": "code",
   "execution_count": 73,
   "id": "d505c855",
   "metadata": {},
   "outputs": [
    {
     "name": "stdout",
     "output_type": "stream",
     "text": [
      "DISPLAY Car Brands!!\n",
      "1.AUDI\n",
      "2.BMW\n",
      "3.BENZ\n",
      "\n",
      "Expensive: Roles ROYCE\n"
     ]
    }
   ],
   "source": [
    "class Car:\n",
    "    def func1(self):\n",
    "        print(\"DISPLAY Car Brands!!\")\n",
    " \n",
    " \n",
    "class c1(Car):\n",
    "    def func2(self):\n",
    "        print(\"1.AUDI\\n2.BMW\\n3.BENZ\\n\")\n",
    " \n",
    " \n",
    "class c2(Car):\n",
    "    def func3(self):\n",
    "        print(\"Expensive: Roles ROYCE\")\n",
    " \n",
    "class c3(c1,c2):\n",
    "    def func4(self):\n",
    "        print('car')\n",
    " \n",
    "# Driver's code\n",
    "object = c3()\n",
    "object.func1()\n",
    "object.func2()\n",
    "object.func3()"
   ]
  },
  {
   "cell_type": "code",
   "execution_count": 74,
   "id": "836e3e17",
   "metadata": {},
   "outputs": [],
   "source": [
    "#Multilevel Inheritance"
   ]
  },
  {
   "cell_type": "code",
   "execution_count": 2,
   "id": "f8748995",
   "metadata": {},
   "outputs": [
    {
     "name": "stdout",
     "output_type": "stream",
     "text": [
      "Grandfather name : Vaithi\n",
      "Father name : Gopi\n",
      "Son name : prince\n"
     ]
    }
   ],
   "source": [
    " \n",
    "class Grandfather:\n",
    " \n",
    "    def __init__(self, grandfathername):\n",
    "        self.grandfathername = grandfathername\n",
    " \n",
    "# Intermediate class\n",
    " \n",
    " \n",
    "class Father(Grandfather):\n",
    "    def __init__(self, fathername, grandfathername):\n",
    "        self.fathername = fathername\n",
    " \n",
    "        # invoking constructor of Grandfather class\n",
    "        Grandfather.__init__(self, grandfathername)\n",
    " \n",
    "# Derived class\n",
    " \n",
    " \n",
    "class Son(Father):\n",
    "    def __init__(self, sonname, fathername, grandfathername):\n",
    "        self.sonname = sonname\n",
    " \n",
    "        # invoking constructor of Father class\n",
    "        Father.__init__(self, fathername, grandfathername)\n",
    " \n",
    "    def print_name(self):\n",
    "        print('Grandfather name :', self.grandfathername)\n",
    "        print(\"Father name :\", self.fathername)\n",
    "        print(\"Son name :\", self.sonname)\n",
    " \n",
    " \n",
    "#  Driver code\n",
    "s1 = Son('prince', 'Gopi', 'Vaithi')\n",
    "s1.print_name()"
   ]
  },
  {
   "cell_type": "markdown",
   "id": "d73b15c4",
   "metadata": {},
   "source": [
    "# EXCEPTION HANDLE"
   ]
  },
  {
   "cell_type": "code",
   "execution_count": 1,
   "id": "df671c5d",
   "metadata": {},
   "outputs": [
    {
     "name": "stdout",
     "output_type": "stream",
     "text": [
      "Enter the item: bottle\n",
      "The rate of bottle is 5\n"
     ]
    }
   ],
   "source": [
    "#1.\n",
    "Rate = { 'bottle' : 5, 'chair' : 1200, 'pen' : 50}\n",
    "item = input('Enter the item: ')\n",
    "try:\n",
    "   print(f'The rate of {item} is {Rate[item]}')\n",
    "except KeyError:\n",
    "    print(f'The price of {item} is not found')"
   ]
  },
  {
   "cell_type": "code",
   "execution_count": 7,
   "id": "a5c55137",
   "metadata": {},
   "outputs": [
    {
     "name": "stdout",
     "output_type": "stream",
     "text": [
      "TRUE\n",
      "Success, no error!\n"
     ]
    }
   ],
   "source": [
    "#2.\n",
    "try:  \n",
    "    a = 5\n",
    "    b = 5\n",
    "    assert a != b\n",
    "except AssertionError:  \n",
    "        if a==b:\n",
    "            print(\"TRUE\") \n",
    "print (\"Success, no error!\")"
   ]
  },
  {
   "cell_type": "code",
   "execution_count": 4,
   "id": "a064da1b",
   "metadata": {},
   "outputs": [
    {
     "name": "stdout",
     "output_type": "stream",
     "text": [
      "5\n",
      "Attribute Exception\n"
     ]
    }
   ],
   "source": [
    "#3.\n",
    "class Attributes(object):\n",
    "    num = 5\n",
    "    print(num)\n",
    "try:\n",
    "    object = Attributes()\n",
    "    print (object.attribute)\n",
    "except AttributeError:\n",
    "    print (\"Attribute Exception\")"
   ]
  },
  {
   "cell_type": "code",
   "execution_count": 3,
   "id": "5f0da894",
   "metadata": {},
   "outputs": [
    {
     "name": "stdout",
     "output_type": "stream",
     "text": [
      "enter:12,4\n",
      "Error Handled!\n"
     ]
    }
   ],
   "source": [
    "#4.\n",
    "try:\n",
    "    a=int(input(\"enter:\"))\n",
    "    Type=a[1]\n",
    "except ValueError:    #Two or more int elements given as inputs\n",
    "    print(\"Error Handled!\")\n",
    "\n"
   ]
  },
  {
   "cell_type": "code",
   "execution_count": 15,
   "id": "3d8f9ee7",
   "metadata": {},
   "outputs": [
    {
     "name": "stdout",
     "output_type": "stream",
     "text": [
      "98\n"
     ]
    }
   ],
   "source": [
    "#5.\n",
    "import numpy as np\n",
    "try:\n",
    "    a=[12,34,56,78,98]\n",
    "    print(np.max(a))\n",
    "except IndentationError:\n",
    "    print(np.max(a))"
   ]
  },
  {
   "cell_type": "code",
   "execution_count": 1,
   "id": "ce1714cc",
   "metadata": {},
   "outputs": [
    {
     "name": "stdout",
     "output_type": "stream",
     "text": [
      "Value of b =  -2.0\n",
      "NameError Occurred and Handled\n"
     ]
    }
   ],
   "source": [
    "#6.\n",
    "def fun(a):\n",
    "    if a < 4:\n",
    "  \n",
    "        # throws ZeroDivisionError for a = 3\n",
    "        b = a/(a-3)\n",
    "  \n",
    "    # throws NameError if a >= 4\n",
    "    print(\"Value of b = \", b)\n",
    "      \n",
    "try:\n",
    "    fun(2)\n",
    "    fun(5)\n",
    "  \n",
    "# note that braces () are necessary here for \n",
    "# multiple exceptions\n",
    "except ZeroDivisionError:\n",
    "    print(\"ZeroDivisionError Occurred and Handled\")\n",
    "except NameError:\n",
    "    print(\"NameError Occurred and Handled\")"
   ]
  },
  {
   "cell_type": "markdown",
   "id": "7e8ac889",
   "metadata": {},
   "source": [
    "# Regular Experssion"
   ]
  },
  {
   "cell_type": "code",
   "execution_count": 31,
   "id": "3c009fbf",
   "metadata": {},
   "outputs": [
    {
     "name": "stdout",
     "output_type": "stream",
     "text": [
      "['12', '78', '23']\n"
     ]
    }
   ],
   "source": [
    "#1.\n",
    "# re.findall()\n",
    "import pandas as pd\n",
    "import numpy as np\n",
    "import re\n",
    "str1='Hello 12 rt 78. Cowboy 23'\n",
    "pattern = '\\d+'\n",
    "\n",
    "result = re.findall(pattern,str1)\n",
    "print(result)"
   ]
  },
  {
   "cell_type": "code",
   "execution_count": 53,
   "id": "e43706e7",
   "metadata": {},
   "outputs": [
    {
     "name": "stdout",
     "output_type": "stream",
     "text": [
      "['twelve:12', 'Eighty nine:89 fourty:40']\n"
     ]
    }
   ],
   "source": [
    "#2.\n",
    "#re.split()\n",
    "string='twelve:12 Eighty nine:89 fourty:40'\n",
    "pattern='\\s+'\n",
    "\n",
    "#maxsplit = 1\n",
    "#split only at the first occurence\n",
    "\n",
    "result  = re.split(pattern,string,1)\n",
    "print(result)"
   ]
  },
  {
   "cell_type": "code",
   "execution_count": 73,
   "id": "be58c169",
   "metadata": {},
   "outputs": [
    {
     "name": "stdout",
     "output_type": "stream",
     "text": [
      "abc\t&&\t12\\\t&&\tde\t&&\t23\t&&\tf45\t&&\t6\n"
     ]
    }
   ],
   "source": [
    "#3.\n",
    "#re.sub()\n",
    "s1='abc 12\\ de 23 \\n f45 6'\n",
    "    # matches all whitespace characters\n",
    "pattern='\\s+'\n",
    "\n",
    "#empty string\n",
    "replace = '\\t&&\\t'     # && denotes white spaces\n",
    "\n",
    "new = re.sub(pattern,replace,s1)\n",
    "print(new)"
   ]
  },
  {
   "cell_type": "code",
   "execution_count": 86,
   "id": "83453e21",
   "metadata": {},
   "outputs": [
    {
     "name": "stdout",
     "output_type": "stream",
     "text": [
      "Pattern found inside the string\n",
      "Index: Python\n"
     ]
    }
   ],
   "source": [
    "#4.\n",
    "#re.search()\n",
    "s2='Python is Craze'\n",
    "#check if python is beginning\n",
    "match = re.search('\\APython',s2)\n",
    "m1=s2[0:6]\n",
    "\n",
    "if match:\n",
    "    print('Pattern found inside the string')\n",
    "    print('Index:',m1)\n",
    "else:\n",
    "    print('Pattern not found!!')\n",
    "    "
   ]
  },
  {
   "cell_type": "markdown",
   "id": "ed7f6101",
   "metadata": {},
   "source": [
    "# NUMPY"
   ]
  },
  {
   "cell_type": "code",
   "execution_count": 226,
   "id": "d6e6db07",
   "metadata": {},
   "outputs": [
    {
     "data": {
      "text/plain": [
       "array([46, 38, 23, 14, 18, 11, 31, 28, 39, 23, 30, 23, 35, 35, 47, 48, 20,\n",
       "       26, 17, 37])"
      ]
     },
     "execution_count": 226,
     "metadata": {},
     "output_type": "execute_result"
    }
   ],
   "source": [
    "import numpy as np\n",
    "#one-dim\n",
    "l=np.random.randint(10,50,20)\n",
    "l"
   ]
  },
  {
   "cell_type": "code",
   "execution_count": 227,
   "id": "8c4273ac",
   "metadata": {},
   "outputs": [
    {
     "data": {
      "text/plain": [
       "589"
      ]
     },
     "execution_count": 227,
     "metadata": {},
     "output_type": "execute_result"
    }
   ],
   "source": [
    "#Sum\n",
    "np.sum(l)"
   ]
  },
  {
   "cell_type": "code",
   "execution_count": 228,
   "id": "d556f00d",
   "metadata": {},
   "outputs": [
    {
     "data": {
      "text/plain": [
       "48"
      ]
     },
     "execution_count": 228,
     "metadata": {},
     "output_type": "execute_result"
    }
   ],
   "source": [
    "#max\n",
    "np.max(l)"
   ]
  },
  {
   "cell_type": "code",
   "execution_count": 229,
   "id": "cf380793",
   "metadata": {},
   "outputs": [
    {
     "data": {
      "text/plain": [
       "11"
      ]
     },
     "execution_count": 229,
     "metadata": {},
     "output_type": "execute_result"
    }
   ],
   "source": [
    "#min\n",
    "np.min(l)"
   ]
  },
  {
   "cell_type": "code",
   "execution_count": 230,
   "id": "c938495a",
   "metadata": {},
   "outputs": [
    {
     "data": {
      "text/plain": [
       "array([[15, 35, 35, 18],\n",
       "       [15, 34, 14, 23],\n",
       "       [17, 29, 22, 23]])"
      ]
     },
     "execution_count": 230,
     "metadata": {},
     "output_type": "execute_result"
    }
   ],
   "source": [
    "#multi-Dim\n",
    "M=np.random.randint(10,40,(3,4))\n",
    "M"
   ]
  },
  {
   "cell_type": "code",
   "execution_count": 231,
   "id": "6f1d9e12",
   "metadata": {},
   "outputs": [
    {
     "name": "stdout",
     "output_type": "stream",
     "text": [
      "[103  86  91]\n",
      "[47 98 71 64]\n"
     ]
    }
   ],
   "source": [
    "#sum\n",
    "print(np.sum(M,axis=1))\n",
    "\n",
    "print(np.sum(M,axis=0))"
   ]
  },
  {
   "cell_type": "code",
   "execution_count": 232,
   "id": "e3c95c75",
   "metadata": {},
   "outputs": [
    {
     "name": "stdout",
     "output_type": "stream",
     "text": [
      "Max [35 34 29]\n",
      "Min [15 29 14 18]\n"
     ]
    }
   ],
   "source": [
    "#max\n",
    "print('Max',np.max(M,axis=1))\n",
    "print('Min',np.min(M,axis=0))"
   ]
  },
  {
   "cell_type": "code",
   "execution_count": 233,
   "id": "b4b7b9c7",
   "metadata": {},
   "outputs": [
    {
     "name": "stdout",
     "output_type": "stream",
     "text": [
      "[15 16 17]\n"
     ]
    },
    {
     "data": {
      "text/plain": [
       "4080"
      ]
     },
     "execution_count": 233,
     "metadata": {},
     "output_type": "execute_result"
    }
   ],
   "source": [
    "#Prod\n",
    "l1=np.random.randint(10,20,3)\n",
    "print(l1)\n",
    "prod=np.prod(l1)\n",
    "prod"
   ]
  },
  {
   "cell_type": "code",
   "execution_count": 234,
   "id": "69373202",
   "metadata": {},
   "outputs": [
    {
     "name": "stdout",
     "output_type": "stream",
     "text": [
      "[15 16 17]\n",
      "16.0\n"
     ]
    }
   ],
   "source": [
    "#Mean\n",
    "mean=np.mean(l1)\n",
    "print(l1)\n",
    "print(mean)"
   ]
  },
  {
   "cell_type": "code",
   "execution_count": 235,
   "id": "322a8c99",
   "metadata": {},
   "outputs": [
    {
     "name": "stdout",
     "output_type": "stream",
     "text": [
      "[13 19 13]\n",
      "2.8284271247461903\n"
     ]
    }
   ],
   "source": [
    "#std\n",
    "l2=np.random.randint(10,20,3)\n",
    "print(l2)\n",
    "std=np.std(l2)\n",
    "print(std)"
   ]
  },
  {
   "cell_type": "code",
   "execution_count": 236,
   "id": "6964a418",
   "metadata": {},
   "outputs": [
    {
     "data": {
      "text/plain": [
       "True"
      ]
     },
     "execution_count": 236,
     "metadata": {},
     "output_type": "execute_result"
    }
   ],
   "source": [
    "#any\n",
    "a=[0,8,0]\n",
    "np.any(a)          # it returns true if any value non-zero"
   ]
  },
  {
   "cell_type": "code",
   "execution_count": 237,
   "id": "2ae83a84",
   "metadata": {},
   "outputs": [
    {
     "data": {
      "text/plain": [
       "False"
      ]
     },
     "execution_count": 237,
     "metadata": {},
     "output_type": "execute_result"
    }
   ],
   "source": [
    "#all\n",
    "x=[2,4,6,0,8]\n",
    "np.all(x)          # it returns false if any one value is zero"
   ]
  },
  {
   "cell_type": "code",
   "execution_count": 238,
   "id": "76c1e342",
   "metadata": {},
   "outputs": [
    {
     "name": "stdout",
     "output_type": "stream",
     "text": [
      "[12, 45, 67, 89, 90]\n",
      "67.0\n"
     ]
    }
   ],
   "source": [
    "#Median\n",
    "x=list((12,45,67,89,90))\n",
    "print(x)\n",
    "med=np.median(x)\n",
    "print(med)"
   ]
  },
  {
   "cell_type": "markdown",
   "id": "eea468a2",
   "metadata": {},
   "source": [
    "# Boolean and Masking"
   ]
  },
  {
   "cell_type": "code",
   "execution_count": 239,
   "id": "79e36fab",
   "metadata": {},
   "outputs": [
    {
     "data": {
      "text/plain": [
       "array([False, False, False, False])"
      ]
     },
     "execution_count": 239,
     "metadata": {},
     "output_type": "execute_result"
    }
   ],
   "source": [
    "#Masking\n",
    "import numpy.ma as ma\n",
    "m = np.zeros(4)\n",
    "m\n",
    "x=np.array([0., 0., 0., 0.])\n",
    "ma.make_mask(m)\n",
    "False\n",
    "ma.make_mask(m, shrink=False)\n",
    "np.array([False, False, False, False])"
   ]
  },
  {
   "cell_type": "code",
   "execution_count": 240,
   "id": "85a39b2e",
   "metadata": {},
   "outputs": [
    {
     "name": "stdout",
     "output_type": "stream",
     "text": [
      "[12 45 67 34 90 34]\n",
      "1. [ True False False  True False  True]\n",
      "\n",
      "2. [False  True  True False  True False]\n",
      "\n",
      "3. [False  True False False False False]\n",
      "\n",
      "4. [ True False False  True False  True]\n",
      "\n",
      "5. [False  True  True False  True False]\n",
      "\n",
      "6. [ True  True False  True  True  True]\n"
     ]
    }
   ],
   "source": [
    "#Comparisons\n",
    "# <\n",
    "a=np.array([12,45,67,34,90,34])\n",
    "print(a)\n",
    "x=a<40\n",
    "print('1.',x)\n",
    "\n",
    "# >\n",
    "\n",
    "print('\\n2.',a>40)\n",
    "\n",
    "# ==\n",
    "\n",
    "print('\\n3.',a==45)\n",
    "\n",
    "# <=\n",
    "\n",
    "print('\\n4.',a<=40)\n",
    "\n",
    "# >=\n",
    "\n",
    "print('\\n5.',a>=40)\n",
    "\n",
    "\n",
    "# !=\n",
    "\n",
    "print('\\n6.',a!=67)"
   ]
  },
  {
   "cell_type": "markdown",
   "id": "57a4bc6b",
   "metadata": {},
   "source": [
    "# BOOL"
   ]
  },
  {
   "cell_type": "code",
   "execution_count": 241,
   "id": "f9cb6cb3",
   "metadata": {},
   "outputs": [
    {
     "data": {
      "text/plain": [
       "(True, False)"
      ]
     },
     "execution_count": 241,
     "metadata": {},
     "output_type": "execute_result"
    }
   ],
   "source": [
    "bool(42),bool(0)"
   ]
  },
  {
   "cell_type": "code",
   "execution_count": 242,
   "id": "f805f15b",
   "metadata": {},
   "outputs": [
    {
     "data": {
      "text/plain": [
       "False"
      ]
     },
     "execution_count": 242,
     "metadata": {},
     "output_type": "execute_result"
    }
   ],
   "source": [
    "bool(42 and 0)"
   ]
  },
  {
   "cell_type": "code",
   "execution_count": 243,
   "id": "b3c8fbf4",
   "metadata": {},
   "outputs": [
    {
     "data": {
      "text/plain": [
       "True"
      ]
     },
     "execution_count": 243,
     "metadata": {},
     "output_type": "execute_result"
    }
   ],
   "source": [
    "bool(42 or 0)"
   ]
  },
  {
   "cell_type": "markdown",
   "id": "2be1adec",
   "metadata": {},
   "source": [
    "# Bin"
   ]
  },
  {
   "cell_type": "code",
   "execution_count": 244,
   "id": "9314482e",
   "metadata": {},
   "outputs": [
    {
     "data": {
      "text/plain": [
       "'0b110111'"
      ]
     },
     "execution_count": 244,
     "metadata": {},
     "output_type": "execute_result"
    }
   ],
   "source": [
    "bin(55)"
   ]
  },
  {
   "cell_type": "code",
   "execution_count": 245,
   "id": "5fcfca2a",
   "metadata": {},
   "outputs": [
    {
     "data": {
      "text/plain": [
       "'0b0'"
      ]
     },
     "execution_count": 245,
     "metadata": {},
     "output_type": "execute_result"
    }
   ],
   "source": [
    "bin(0)"
   ]
  },
  {
   "cell_type": "code",
   "execution_count": 246,
   "id": "8cded718",
   "metadata": {},
   "outputs": [
    {
     "data": {
      "text/plain": [
       "'0b0'"
      ]
     },
     "execution_count": 246,
     "metadata": {},
     "output_type": "execute_result"
    }
   ],
   "source": [
    "bin(55 & 0)"
   ]
  },
  {
   "cell_type": "code",
   "execution_count": 247,
   "id": "177ad8b2",
   "metadata": {},
   "outputs": [
    {
     "data": {
      "text/plain": [
       "'0b110111'"
      ]
     },
     "execution_count": 247,
     "metadata": {},
     "output_type": "execute_result"
    }
   ],
   "source": [
    "bin(55 | 0)"
   ]
  },
  {
   "cell_type": "code",
   "execution_count": 248,
   "id": "7b80f11b",
   "metadata": {},
   "outputs": [
    {
     "data": {
      "text/plain": [
       "'0b110111'"
      ]
     },
     "execution_count": 248,
     "metadata": {},
     "output_type": "execute_result"
    }
   ],
   "source": [
    "bin(55|2)"
   ]
  },
  {
   "cell_type": "code",
   "execution_count": null,
   "id": "f15c9046",
   "metadata": {},
   "outputs": [],
   "source": []
  },
  {
   "cell_type": "code",
   "execution_count": null,
   "id": "313ea6f0",
   "metadata": {},
   "outputs": [],
   "source": []
  },
  {
   "cell_type": "markdown",
   "id": "a7315485",
   "metadata": {},
   "source": [
    " #                               '...THE PROGRAMS FINISED...'"
   ]
  }
 ],
 "metadata": {
  "kernelspec": {
   "display_name": "Python 3 (ipykernel)",
   "language": "python",
   "name": "python3"
  },
  "language_info": {
   "codemirror_mode": {
    "name": "ipython",
    "version": 3
   },
   "file_extension": ".py",
   "mimetype": "text/x-python",
   "name": "python",
   "nbconvert_exporter": "python",
   "pygments_lexer": "ipython3",
   "version": "3.9.12"
  }
 },
 "nbformat": 4,
 "nbformat_minor": 5
}
