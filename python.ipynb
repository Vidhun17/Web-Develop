{
 "cells": [
  {
   "cell_type": "markdown",
   "id": "06d772e4",
   "metadata": {},
   "source": [
    "# 11"
   ]
  },
  {
   "cell_type": "code",
   "execution_count": 7,
   "id": "eb8fca25",
   "metadata": {},
   "outputs": [
    {
     "name": "stdout",
     "output_type": "stream",
     "text": [
      "*\r\n",
      "**\r\n",
      "***\r\n",
      "****\r\n",
      "*****\r\n"
     ]
    }
   ],
   "source": [
    "def show_stars(n):\n",
    "    for i in range(0,n):\n",
    "        for j in range(0,i+1):\n",
    "            print(\"*\",end=\"\")\n",
    "        print(\"\\r\")\n",
    "n=5\n",
    "show_stars(n)"
   ]
  },
  {
   "cell_type": "markdown",
   "id": "1c030c1a",
   "metadata": {},
   "source": [
    "# 12"
   ]
  },
  {
   "cell_type": "code",
   "execution_count": 1,
   "id": "110f1f2c",
   "metadata": {},
   "outputs": [
    {
     "name": "stdout",
     "output_type": "stream",
     "text": [
      "Removing Chars From String\n",
      "Real String: Quantitative\n",
      "itative\n",
      "Real String: Hurry\n",
      "rry\n"
     ]
    }
   ],
   "source": [
    "def belong(word,n):\n",
    "    print(\"Real String:\", word)\n",
    "    x=word[n:]\n",
    "    return x\n",
    "\n",
    "print(\"Removing Chars From String\")\n",
    "print(belong(\"Quantitative\",5))\n",
    "print(belong(\"Hurry\",2))\n"
   ]
  },
  {
   "cell_type": "markdown",
   "id": "9d3ba4e4",
   "metadata": {},
   "source": [
    "# 13"
   ]
  },
  {
   "cell_type": "code",
   "execution_count": 13,
   "id": "222a573a",
   "metadata": {},
   "outputs": [
    {
     "name": "stdout",
     "output_type": "stream",
     "text": [
      "Given Numbers is: [10, 2, 25, 67, 92, 100]\n",
      "Divisible of 5 in numbers\n",
      "10\n",
      "25\n",
      "100\n"
     ]
    }
   ],
   "source": [
    "def division(numbers):\n",
    "    print(\"Given Numbers is:\",numbers)\n",
    "    print(\"Divisible of 5 in numbers\")\n",
    "    for num in numbers:\n",
    "        if(num%5==0):\n",
    "            print(num)\n",
    "            \n",
    "numbers=[10,2,25,67,92,100]\n",
    "division(numbers)"
   ]
  },
  {
   "cell_type": "markdown",
   "id": "7da518c8",
   "metadata": {},
   "source": [
    "# 14"
   ]
  },
  {
   "cell_type": "code",
   "execution_count": 1,
   "id": "946b8ccf",
   "metadata": {},
   "outputs": [
    {
     "name": "stdout",
     "output_type": "stream",
     "text": [
      "4\n"
     ]
    }
   ],
   "source": [
    "def solve(s,t):\n",
    "    cout = 0\n",
    "    for i in range(0,len(s)-len(t)+1):\n",
    "        if s[i:i + len(t)] == t:\n",
    "            cout = cout + 1\n",
    "    return cout\n",
    "\n",
    "s = 'sdbsbHisnjHiKGKGKGKNBmvHijafdvcvFJGFJHi'\n",
    "t = \"Hi\"\n",
    "print(solve(s,t))"
   ]
  },
  {
   "cell_type": "markdown",
   "id": "cd1187e9",
   "metadata": {},
   "source": [
    "# 15"
   ]
  },
  {
   "cell_type": "code",
   "execution_count": 2,
   "id": "04e91071",
   "metadata": {},
   "outputs": [
    {
     "name": "stdout",
     "output_type": "stream",
     "text": [
      "\n",
      "1\n",
      "22\n",
      "333\n",
      "4444\n",
      "55555\n"
     ]
    }
   ],
   "source": [
    "rows=6\n",
    "for i in range(rows):\n",
    "    for j in range(i):\n",
    "        print(i,end='')\n",
    "    print('')"
   ]
  },
  {
   "cell_type": "markdown",
   "id": "fe6752cd",
   "metadata": {},
   "source": [
    "# Lists"
   ]
  },
  {
   "cell_type": "code",
   "execution_count": 3,
   "id": "30c50c9d",
   "metadata": {},
   "outputs": [
    {
     "name": "stdout",
     "output_type": "stream",
     "text": [
      "[65, 12, 28, 7, 78, 10]\n"
     ]
    }
   ],
   "source": [
    "#1\n",
    "def swap(lists):\n",
    "    size = len(lists)\n",
    "    \n",
    "    temp = lists[0]\n",
    "    lists[0] = lists[size - 1]\n",
    "    lists[size - 1] = temp\n",
    "    \n",
    "    return lists\n",
    "lists = [10,12,28,7,78,65]\n",
    "print(swap(lists))"
   ]
  },
  {
   "cell_type": "code",
   "execution_count": 5,
   "id": "ac5d3b01",
   "metadata": {},
   "outputs": [
    {
     "name": "stdout",
     "output_type": "stream",
     "text": [
      "[23, 67, 98, 34, 12, 11]\n"
     ]
    }
   ],
   "source": [
    "#2\n",
    "def swaps(List,n1,n2):\n",
    "    List[n1], List[n2] = List[n2], List[n1]\n",
    "    return List\n",
    "\n",
    "List = [23,12,98,34,67,11]\n",
    "n1, n2 = 2, 5\n",
    "print(swaps(List,n1-1, n2-1))"
   ]
  },
  {
   "cell_type": "code",
   "execution_count": 56,
   "id": "c7b841ef",
   "metadata": {},
   "outputs": [
    {
     "name": "stdout",
     "output_type": "stream",
     "text": [
      "The length of list is: 6\n",
      "The Length of List: 5\n"
     ]
    }
   ],
   "source": [
    "#3\n",
    "#method1:\n",
    "list1=[12,24,48,54,76,98]\n",
    "print(\"The length of list is:\",len(list1))\n",
    "#method2:\n",
    "list2=[34,23,5,66,80]\n",
    "count = 0\n",
    "\n",
    "for i in list2:\n",
    "    count = count + 1\n",
    "print(\"The Length of List:\",count)"
   ]
  },
  {
   "cell_type": "code",
   "execution_count": 72,
   "id": "02d21e91",
   "metadata": {},
   "outputs": [
    {
     "name": "stdout",
     "output_type": "stream",
     "text": [
      "enter num45\n",
      "enter num23\n",
      "45\n"
     ]
    }
   ],
   "source": [
    "#4\n",
    "#max\n",
    "a=int(input(\"enter num\"))\n",
    "b=int(input(\"enter num\"))\n",
    "def maximum(a,b):\n",
    "   \n",
    "    if a>b:\n",
    "        print(a)\n",
    "    else:\n",
    "        print(b)\n",
    "maximum(a,b)"
   ]
  },
  {
   "cell_type": "code",
   "execution_count": 73,
   "id": "fc4270e7",
   "metadata": {},
   "outputs": [
    {
     "name": "stdout",
     "output_type": "stream",
     "text": [
      "enter num34\n",
      "enter num67\n",
      "34\n"
     ]
    }
   ],
   "source": [
    "#5\n",
    "#min\n",
    "a=int(input(\"enter num\"))\n",
    "b=int(input(\"enter num\"))\n",
    "def minimum(a,b):\n",
    "   \n",
    "    if a<b:\n",
    "        print(a)\n",
    "    else:\n",
    "        print(b)\n",
    "minimum(a,b)"
   ]
  },
  {
   "cell_type": "markdown",
   "id": "b8821b34",
   "metadata": {},
   "source": [
    "# Tuples"
   ]
  },
  {
   "cell_type": "code",
   "execution_count": 75,
   "id": "d3d14c24",
   "metadata": {},
   "outputs": [
    {
     "name": "stdout",
     "output_type": "stream",
     "text": [
      "Size of Tuple1: 56 bytes\n"
     ]
    }
   ],
   "source": [
    "#1\n",
    "tuple1=(\"Study\",12,\"char\",12.67)\n",
    "print(\"Size of Tuple1:\",tuple1.__sizeof__(),\"bytes\")"
   ]
  },
  {
   "cell_type": "code",
   "execution_count": 76,
   "id": "03acc5a7",
   "metadata": {},
   "outputs": [
    {
     "name": "stdout",
     "output_type": "stream",
     "text": [
      "The Original Tuple is:(10, 25, 30, 25, 10)\n",
      "sum of Tuples:100\n"
     ]
    }
   ],
   "source": [
    "#3\n",
    "tup1 = (10,25,30,25,10)\n",
    "print(\"The Original Tuple is:\" + str(tup1))\n",
    "res = sum(list(tup1))\n",
    "print(\"sum of Tuples:\" + str(res))"
   ]
  },
  {
   "cell_type": "code",
   "execution_count": 90,
   "id": "8e3a845f",
   "metadata": {},
   "outputs": [
    {
     "name": "stdout",
     "output_type": "stream",
     "text": [
      "Tuple: (10, 25, 30, 25, 12, 58, 76)\n",
      "K max & min: [10, 12, 58, 76]\n"
     ]
    }
   ],
   "source": [
    "#2\n",
    "my_tup = (10,25,30,25,12,58,76)\n",
    "k=2\n",
    "coll = sorted(list(my_tup))\n",
    "vals = []\n",
    "for i in range(k):\n",
    "    vals.append(coll[i])\n",
    "    \n",
    "for i in range((len(coll) - k), len(coll)):\n",
    "    vals.append(coll[i])\n",
    "print(\"Tuple:\", str(my_tup))\n",
    "print(\"K max & min:\", str(vals))"
   ]
  },
  {
   "cell_type": "markdown",
   "id": "b6fbc97c",
   "metadata": {},
   "source": [
    "# String"
   ]
  },
  {
   "cell_type": "code",
   "execution_count": 97,
   "id": "a188f3ca",
   "metadata": {},
   "outputs": [
    {
     "name": "stdout",
     "output_type": "stream",
     "text": [
      "vidhun siddharth s string is symmetrical\n"
     ]
    }
   ],
   "source": [
    "#1\n",
    "string = 'vidhun siddharth s'\n",
    "half = int(len(string) / 2)\n",
    "\n",
    "if len(string)%2==0:\n",
    "    str1=string[:half]\n",
    "    str2=string[half:]\n",
    "else:\n",
    "    str1 = string[:half]\n",
    "    str2 = string[half+1:]\n",
    "    \n",
    "if str1 == str2:\n",
    "    print(string, 'String is Palindrome')\n",
    "else:\n",
    "    print(string, 'string is symmetrical')\n",
    "  "
   ]
  },
  {
   "cell_type": "code",
   "execution_count": 98,
   "id": "babd062c",
   "metadata": {},
   "outputs": [
    {
     "name": "stdout",
     "output_type": "stream",
     "text": [
      "ertjjt ;eojrt tkeljtrj\n"
     ]
    }
   ],
   "source": [
    "#2\n",
    "#reverse words\n",
    "string = \"tkeljtrj  ;eojrt ertjjt\"\n",
    "\n",
    "s=string.split()[::-1]\n",
    "l = []\n",
    "for i in s:\n",
    "    l.append(i)\n",
    "print(\" \".join(l))"
   ]
  },
  {
   "cell_type": "markdown",
   "id": "7e2d1d81",
   "metadata": {},
   "source": [
    "# Set "
   ]
  },
  {
   "cell_type": "code",
   "execution_count": 100,
   "id": "6fddd728",
   "metadata": {},
   "outputs": [
    {
     "name": "stdout",
     "output_type": "stream",
     "text": [
      "Size of set1: 200 bytes\n"
     ]
    }
   ],
   "source": [
    "#1\n",
    "set1={\"Study\",12,\"char\",12.67}\n",
    "print(\"Size of set1:\",set1.__sizeof__(),\"bytes\")"
   ]
  },
  {
   "cell_type": "code",
   "execution_count": 109,
   "id": "68942136",
   "metadata": {},
   "outputs": [
    {
     "name": "stdout",
     "output_type": "stream",
     "text": [
      "u\n",
      "o\n",
      "y\n",
      "t\n",
      "a\n",
      "i\n",
      "e\n",
      "['u']['o']['y']['t']['a']['i']['e']\n"
     ]
    }
   ],
   "source": [
    "#2\n",
    "#method1\n",
    "set_1={'t','y','u','i','o','a','e'}\n",
    "\n",
    "for val in set_1:\n",
    "    print(val, end='\\n')\n",
    "    \n",
    "\n",
    "#method2\n",
    "set_2=list({'t','y','u','i','o','a','e'})\n",
    "\n",
    "for value in range(1,len(set_2)):\n",
    "    print(set_2[value-1:value],end='')\n",
    "print(set_2[-1:])"
   ]
  },
  {
   "cell_type": "code",
   "execution_count": 121,
   "id": "f38e8a57",
   "metadata": {},
   "outputs": [
    {
     "name": "stdout",
     "output_type": "stream",
     "text": [
      "The max element is: 78\n",
      "The Min element is 12\n"
     ]
    }
   ],
   "source": [
    "#3\n",
    "#max and min in set\n",
    "a={12,34,56,45,65,78}\n",
    "print(\"The max element is:\", max(a))\n",
    "print(\"The Min element is\", min(a))"
   ]
  },
  {
   "cell_type": "markdown",
   "id": "0aa0cb96",
   "metadata": {},
   "source": [
    "# Dictionary"
   ]
  },
  {
   "cell_type": "code",
   "execution_count": 124,
   "id": "2020419d",
   "metadata": {},
   "outputs": [
    {
     "name": "stdout",
     "output_type": "stream",
     "text": [
      "Key_value {2: 56, 1: 2, 5: 12, 3: 10, 4: 25}\n",
      "1 2 3 4 5 "
     ]
    }
   ],
   "source": [
    "def dictt():\n",
    "    key={}\n",
    "    key[2] = 56\n",
    "    key[1] = 2\n",
    "    key[5] = 12\n",
    "    key[3] = 10\n",
    "    key[4] = 25\n",
    "    print(\"Key_value\",key)\n",
    "    \n",
    "    for i in sorted(key.keys()):\n",
    "        print(i,end=\" \")\n",
    "    \n",
    "def main():\n",
    "    dictt()\n",
    "    \n",
    "if __name__ == \"__main__\":\n",
    "    main()"
   ]
  },
  {
   "cell_type": "code",
   "execution_count": 126,
   "id": "d213273b",
   "metadata": {},
   "outputs": [
    {
     "name": "stdout",
     "output_type": "stream",
     "text": [
      "{'x-y+z': [12, 10]}\n"
     ]
    }
   ],
   "source": [
    "dic={}\n",
    "\n",
    "a,b,c=5,3,10\n",
    "p,q,r=12,6,4\n",
    "\n",
    "dic[\"x-y+z\"] = [a-b+c,p-q+r]\n",
    "\n",
    "print(dic)"
   ]
  },
  {
   "cell_type": "markdown",
   "id": "749cc62b",
   "metadata": {},
   "source": [
    "# Matrix"
   ]
  },
  {
   "cell_type": "code",
   "execution_count": 138,
   "id": "804422a1",
   "metadata": {},
   "outputs": [
    {
     "name": "stdout",
     "output_type": "stream",
     "text": [
      "Add Matrix\n",
      "[[ 7  7  6]\n",
      " [ 3  7 10]]\n",
      "\n",
      "\n",
      "Sub Matrix\n",
      "[[-5 -1  2]\n",
      " [-1 -1 -2]]\n"
     ]
    }
   ],
   "source": [
    "#2\n",
    "#Adding Matrix\n",
    "import numpy as np\n",
    "m1 = np.array([[1,3,4], [1,3,4]])\n",
    "m2 = np.array([[6,4,2], [2,4,6]])\n",
    "\n",
    "print(\"Add Matrix\")\n",
    "a = np.add(m1, m2)\n",
    "print(a)\n",
    "print('\\n')\n",
    "\n",
    "print(\"Sub Matrix\")\n",
    "b = np.subtract(m1, m2)\n",
    "print(b)\n"
   ]
  },
  {
   "cell_type": "markdown",
   "id": "ceb44759",
   "metadata": {},
   "source": [
    "# Function"
   ]
  },
  {
   "cell_type": "code",
   "execution_count": 140,
   "id": "d3ab9048",
   "metadata": {},
   "outputs": [
    {
     "name": "stdout",
     "output_type": "stream",
     "text": [
      "(a, b)\n"
     ]
    }
   ],
   "source": [
    "#1\n",
    "def func(a, b):\n",
    "    return a+b\n",
    "\n",
    "import inspect\n",
    "\n",
    "print(inspect.signature(func))"
   ]
  },
  {
   "cell_type": "code",
   "execution_count": 144,
   "id": "110f895a",
   "metadata": {},
   "outputs": [
    {
     "name": "stdout",
     "output_type": "stream",
     "text": [
      "Hello From Sharukh , 18\n"
     ]
    }
   ],
   "source": [
    "#2\n",
    "def good(name, num):\n",
    "    print(\"Hello From %s , %s\" % (name, num))\n",
    "    \n",
    "good(\"Sharukh\", 18)"
   ]
  },
  {
   "cell_type": "code",
   "execution_count": null,
   "id": "97e2956d",
   "metadata": {},
   "outputs": [],
   "source": []
  }
 ],
 "metadata": {
  "kernelspec": {
   "display_name": "Python 3 (ipykernel)",
   "language": "python",
   "name": "python3"
  },
  "language_info": {
   "codemirror_mode": {
    "name": "ipython",
    "version": 3
   },
   "file_extension": ".py",
   "mimetype": "text/x-python",
   "name": "python",
   "nbconvert_exporter": "python",
   "pygments_lexer": "ipython3",
   "version": "3.9.12"
  }
 },
 "nbformat": 4,
 "nbformat_minor": 5
}
